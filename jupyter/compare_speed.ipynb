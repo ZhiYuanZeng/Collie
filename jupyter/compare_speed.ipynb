{
 "cells": [
  {
   "cell_type": "markdown",
   "metadata": {},
   "source": [
    "## Flash Attention Data"
   ]
  },
  {
   "cell_type": "markdown",
   "metadata": {},
   "source": [
    "### A800"
   ]
  },
  {
   "cell_type": "code",
   "execution_count": 1,
   "metadata": {},
   "outputs": [],
   "source": [
    "a800_flash_attn_time = [\n",
    "    {\"chunk_size\": 8192, \"memory_size\": 2048, \"memory_type\": \"Fixed-Size Memory\", \"time\": 3.451121},\n",
    "    {\"chunk_size\": 8192, \"memory_size\": 4096, \"memory_type\": \"Fixed-Size Memory\", \"time\": 3.917172},\n",
    "    {\"chunk_size\": 8192, \"memory_size\": 8192, \"memory_type\": \"Fixed-Size Memory\", \"time\": 5.374468},\n",
    "\n",
    "    {\"chunk_size\": 8192, \"memory_size\": 2048, \"memory_type\": \"Incremental Memory\", \"time\": 3.325899},\n",
    "    {\"chunk_size\": 8192, \"memory_size\": 4096, \"memory_type\": \"Incremental Memory\", \"time\": 3.615216},\n",
    "    {\"chunk_size\": 8192, \"memory_size\": 8192, \"memory_type\": \"Incremental Memory\", \"time\": 4.239610},\n",
    "\n",
    "    {\"chunk_size\": 8192, \"memory_size\": 2048, \"memory_type\": \"Decremental Chunk\", \"time\": 3.302616},\n",
    "    {\"chunk_size\": 8192, \"memory_size\": 4096, \"memory_type\": \"Decremental Chunk\", \"time\": 3.643475},\n",
    "    {\"chunk_size\": 8192, \"memory_size\": 8192, \"memory_type\": \"Decremental Chunk\", \"time\": 4.241628},\n",
    "]\n",
    "a800_flash_attn_gpumem = [\n",
    "    {\"chunk_size\": 8192, \"memory_size\": 2048, \"memory_type\": \"Fixed-Size Memory\", \"gpumem\": 31.3},\n",
    "    {\"chunk_size\": 8192, \"memory_size\": 4096, \"memory_type\": \"Fixed-Size Memory\", \"gpumem\": 35.9},\n",
    "    {\"chunk_size\": 8192, \"memory_size\": 8192, \"memory_type\": \"Fixed-Size Memory\", \"gpumem\": 45},\n",
    "\n",
    "    {\"chunk_size\": 8192, \"memory_size\": 2048, \"memory_type\": \"Incremental Memory\", \"gpumem\": 29.9},\n",
    "    {\"chunk_size\": 8192, \"memory_size\": 4096, \"memory_type\": \"Incremental Memory\", \"gpumem\": 33},\n",
    "    {\"chunk_size\": 8192, \"memory_size\": 8192, \"memory_type\": \"Incremental Memory\", \"gpumem\": 39.4},\n",
    "\n",
    "    {\"chunk_size\": 8192, \"memory_size\": 2048, \"memory_type\": \"Decremental Chunk\", \"gpumem\": 29.4},\n",
    "    {\"chunk_size\": 8192, \"memory_size\": 4096, \"memory_type\": \"Decremental Chunk\", \"gpumem\": 32.2},\n",
    "    {\"chunk_size\": 8192, \"memory_size\": 8192, \"memory_type\": \"Decremental Chunk\", \"gpumem\": 37.7},\n",
    "]"
   ]
  },
  {
   "cell_type": "markdown",
   "metadata": {},
   "source": [
    "### 3090"
   ]
  },
  {
   "cell_type": "code",
   "execution_count": 2,
   "metadata": {},
   "outputs": [],
   "source": [
    "\n",
    "x090_flash_attn_time = [\n",
    "    {\"chunk_size\": 2048, \"memory_size\": 512, \"memory_type\": \"Fixed-Size Memory\", \"time\": 2.234775},\n",
    "    {\"chunk_size\": 2048, \"memory_size\": 1024, \"memory_type\": \"Fixed-Size Memory\", \"time\": 2.354478},\n",
    "    {\"chunk_size\": 2048, \"memory_size\": 2048, \"memory_type\": \"Fixed-Size Memory\", \"time\": 2.646271},\n",
    "\n",
    "    {\"chunk_size\": 2048, \"memory_size\": 512, \"memory_type\": \"Incremental Memory\", \"time\": 2.186744},\n",
    "    {\"chunk_size\": 2048, \"memory_size\": 1024, \"memory_type\": \"Incremental Memory\", \"time\": 2.274560},\n",
    "    {\"chunk_size\": 2048, \"memory_size\": 2048, \"memory_type\": \"Incremental Memory\", \"time\": 2.504735},\n",
    "\n",
    "    {\"chunk_size\": 2048, \"memory_size\": 512, \"memory_type\": \"Decremental Chunk\", \"time\": 2.171895},\n",
    "    {\"chunk_size\": 2048, \"memory_size\": 1024, \"memory_type\": \"Decremental Chunk\", \"time\": 2.277657},\n",
    "    {\"chunk_size\": 2048, \"memory_size\": 2048, \"memory_type\": \"Decremental Chunk\", \"time\": 2.447872},\n",
    "]\n",
    "\n",
    "x090_flash_attn_gpumem = [\n",
    "    {\"chunk_size\": 2048, \"memory_size\": 512, \"memory_type\": \"Fixed-Size Memory\", \"gpumem\": 17.9},\n",
    "    {\"chunk_size\": 2048, \"memory_size\": 1024, \"memory_type\": \"Fixed-Size Memory\", \"gpumem\": 19.1},\n",
    "    {\"chunk_size\": 2048, \"memory_size\": 2048, \"memory_type\": \"Fixed-Size Memory\", \"gpumem\": 21.3},\n",
    "\n",
    "    {\"chunk_size\": 2048, \"memory_size\": 512, \"memory_type\": \"Incremental Memory\", \"gpumem\": 17.6},\n",
    "    {\"chunk_size\": 2048, \"memory_size\": 1024, \"memory_type\": \"Incremental Memory\", \"gpumem\": 18.3},\n",
    "    {\"chunk_size\": 2048, \"memory_size\": 2048, \"memory_type\": \"Incremental Memory\", \"gpumem\": 19.9},\n",
    "\n",
    "    {\"chunk_size\": 2048, \"memory_size\": 512, \"memory_type\": \"Decremental Chunk\", \"gpumem\": 17.5},\n",
    "    {\"chunk_size\": 2048, \"memory_size\": 1024, \"memory_type\": \"Decremental Chunk\", \"gpumem\": 18.1},\n",
    "    {\"chunk_size\": 2048, \"memory_size\": 2048, \"memory_type\": \"Decremental Chunk\", \"gpumem\": 19.5},\n",
    "]"
   ]
  },
  {
   "cell_type": "markdown",
   "metadata": {},
   "source": [
    "## Naive Attention Data"
   ]
  },
  {
   "cell_type": "markdown",
   "metadata": {},
   "source": [
    "### a800"
   ]
  },
  {
   "cell_type": "code",
   "execution_count": 3,
   "metadata": {},
   "outputs": [],
   "source": [
    "a800_naive_attn_time = [\n",
    "    {\"chunk_size\": 1024, \"memory_size\": 256, \"memory_type\": \"Fixed-Size Memory\", \"time\": 8.153037},\n",
    "    {\"chunk_size\": 1024, \"memory_size\": 512, \"memory_type\": \"Fixed-Size Memory\", \"time\": 10.052331},\n",
    "    {\"chunk_size\": 1024, \"memory_size\": 1024, \"memory_type\": \"Fixed-Size Memory\", \"time\": 15.074495},\n",
    "\n",
    "    {\"chunk_size\": 1024, \"memory_size\": 256, \"memory_type\": \"Incremental Memory\", \"time\": 7.425909},\n",
    "    {\"chunk_size\": 1024, \"memory_size\": 512, \"memory_type\": \"Incremental Memory\", \"time\": 8.253696},\n",
    "    {\"chunk_size\": 1024, \"memory_size\": 1024, \"memory_type\": \"Incremental Memory\", \"time\": 10.393070},\n",
    "\n",
    "    {\"chunk_size\": 1024, \"memory_size\": 256, \"memory_type\": \"Decremental Chunk\", \"time\": 7.487219},\n",
    "    {\"chunk_size\": 1024, \"memory_size\": 512, \"memory_type\": \"Decremental Chunk\", \"time\": 8.220712},\n",
    "    {\"chunk_size\": 1024, \"memory_size\": 1024, \"memory_type\": \"Decremental Chunk\", \"time\": 10.049732},\n",
    "]\n",
    "\n",
    "a800_naive_attn_memory = [\n",
    "    {\"chunk_size\": 1024, \"memory_size\": 256, \"memory_type\": \"Fixed-Size Memory\", \"gpumem\": 24.7},\n",
    "    {\"chunk_size\": 1024, \"memory_size\": 512, \"memory_type\": \"Fixed-Size Memory\", \"gpumem\": 28.4},\n",
    "    {\"chunk_size\": 1024, \"memory_size\": 1024, \"memory_type\": \"Fixed-Size Memory\", \"gpumem\": 37.7},\n",
    "\n",
    "    {\"chunk_size\": 1024, \"memory_size\": 256, \"memory_type\": \"Incremental Memory\", \"gpumem\": 24.6},\n",
    "    {\"chunk_size\": 1024, \"memory_size\": 512, \"memory_type\": \"Incremental Memory\", \"gpumem\": 28.1},\n",
    "    {\"chunk_size\": 1024, \"memory_size\": 1024, \"memory_type\": \"Incremental Memory\", \"gpumem\": 36.7},\n",
    "\n",
    "    {\"chunk_size\": 1024, \"memory_size\": 256, \"memory_type\": \"Decremental Chunk\", \"gpumem\": 23.2},\n",
    "    {\"chunk_size\": 1024, \"memory_size\": 512, \"memory_type\": \"Decremental Chunk\", \"gpumem\": 24.9},\n",
    "    {\"chunk_size\": 1024, \"memory_size\": 1024, \"memory_type\": \"Decremental Chunk\", \"gpumem\": 28.9},\n",
    "]"
   ]
  },
  {
   "cell_type": "markdown",
   "metadata": {},
   "source": [
    "### 3090"
   ]
  },
  {
   "cell_type": "code",
   "execution_count": 4,
   "metadata": {},
   "outputs": [],
   "source": [
    "x090_naive_attn_time = [\n",
    "    {\"chunk_size\": 512, \"memory_size\": 128, \"memory_type\": \"Fixed-Size Memory\", \"time\": 3.316364},\n",
    "    {\"chunk_size\": 512, \"memory_size\": 256, \"memory_type\": \"Fixed-Size Memory\", \"time\": 3.607026},\n",
    "    {\"chunk_size\": 512, \"memory_size\": 512, \"memory_type\": \"Fixed-Size Memory\", \"time\": 4.348185},\n",
    "\n",
    "    {\"chunk_size\": 512, \"memory_size\": 128, \"memory_type\": \"Incremental Memory\", \"time\": 3.257019},\n",
    "    {\"chunk_size\": 512, \"memory_size\": 256, \"memory_type\": \"Incremental Memory\", \"time\": 3.329416},\n",
    "    {\"chunk_size\": 512, \"memory_size\": 512, \"memory_type\": \"Incremental Memory\", \"time\": 3.675424},\n",
    "\n",
    "    {\"chunk_size\": 512, \"memory_size\": 128, \"memory_type\": \"Decremental Chunk\", \"time\": 3.274286},\n",
    "    {\"chunk_size\": 512, \"memory_size\": 256, \"memory_type\": \"Decremental Chunk\", \"time\": 3.436140},\n",
    "    {\"chunk_size\": 512, \"memory_size\": 512, \"memory_type\": \"Decremental Chunk\", \"time\": 3.649050},\n",
    "]\n",
    "\n",
    "x090_naive_attn_memory = [\n",
    "    {\"chunk_size\": 512, \"memory_size\": 128, \"memory_type\": \"Fixed-Size Memory\", \"gpumem\": 16.8},\n",
    "    {\"chunk_size\": 512, \"memory_size\": 256, \"memory_type\": \"Fixed-Size Memory\", \"gpumem\": 17.8},\n",
    "    {\"chunk_size\": 512, \"memory_size\": 512, \"memory_type\": \"Fixed-Size Memory\", \"gpumem\": 20.4},\n",
    "\n",
    "    {\"chunk_size\": 512, \"memory_size\": 128, \"memory_type\": \"Incremental Memory\", \"gpumem\": 16.7},\n",
    "    {\"chunk_size\": 512, \"memory_size\": 256, \"memory_type\": \"Incremental Memory\", \"gpumem\": 17.6},\n",
    "    {\"chunk_size\": 512, \"memory_size\": 512, \"memory_type\": \"Incremental Memory\", \"gpumem\": 19.9},\n",
    "\n",
    "    {\"chunk_size\": 512, \"memory_size\": 128, \"memory_type\": \"Decremental Chunk\", \"gpumem\": 16.3},\n",
    "    {\"chunk_size\": 512, \"memory_size\": 256, \"memory_type\": \"Decremental Chunk\", \"gpumem\": 16.9},\n",
    "    {\"chunk_size\": 512, \"memory_size\": 512, \"memory_type\": \"Decremental Chunk\", \"gpumem\": 18},\n",
    "]\n"
   ]
  },
  {
   "cell_type": "code",
   "execution_count": 5,
   "metadata": {},
   "outputs": [],
   "source": [
    "import matplotlib.pyplot as plt\n",
    "plt.rcParams['font.family'] = 'DejaVu Serif'\n",
    "plt.rcParams.update({'font.size': 28})\n",
    "plt.rcParams['font.weight'] = 'bold'\n",
    "plt.rcParams['axes.labelweight'] = 'bold'\n",
    "plt.rcParams['axes.titleweight'] = 'bold'\n",
    "import numpy as np"
   ]
  },
  {
   "cell_type": "code",
   "execution_count": 6,
   "metadata": {},
   "outputs": [],
   "source": [
    "macaron_colors = [\n",
    "    '#FA7F6F',  # Light Blue\n",
    "    '#8ECFC9',  # Light Yellow\n",
    "    '#82B0D2',  # Light Green\n",
    "]"
   ]
  },
  {
   "cell_type": "code",
   "execution_count": 7,
   "metadata": {},
   "outputs": [],
   "source": [
    "def plot_bar(fixed_arxiv_ppl, incremental_arxiv_ppl, decremental_arxiv_ppl, memory_sizes, title, ylabel, figure_name):\n",
    "    plt.figure(figsize=(10, 6))\n",
    "    min_value = min(fixed_arxiv_ppl + incremental_arxiv_ppl + decremental_arxiv_ppl)\n",
    "    max_value = max(fixed_arxiv_ppl + incremental_arxiv_ppl + decremental_arxiv_ppl)\n",
    "    \n",
    "    # if full_attn_arxiv_ppl is not None:\n",
    "    #     plt.axhline(y=full_attn_arxiv_ppl, color='black', linestyle='--', linewidth=1, label='Full-Attention PPL')\n",
    "\n",
    "    x = np.arange(len(memory_sizes))\n",
    "    width = 0.3\n",
    "    bars1 = plt.bar(x - width, fixed_arxiv_ppl, width, label='Fixed-size Memory', color=macaron_colors[0])\n",
    "    bars2 = plt.bar(x, incremental_arxiv_ppl, width, label='Incremental Memory', color=macaron_colors[1])\n",
    "    bars3 = plt.bar(x + width, decremental_arxiv_ppl, width, label='Decremental Chunk', color=macaron_colors[2])\n",
    "    \n",
    "    plt.xlabel('Memory size')\n",
    "    plt.ylabel(ylabel)\n",
    "    plt.xticks(x, memory_sizes)\n",
    "    plt.ylim(min_value - 0.1, max_value + 0.1)\n",
    "    plt.title(title, pad=30)\n",
    "    plt.legend()\n",
    "    plt.gca().spines['top'].set_visible(False)\n",
    "    # Add numerical labels on the bars\n",
    "    def add_labels(bars):\n",
    "        for bar in bars:\n",
    "            height = bar.get_height()\n",
    "            plt.annotate(f'{height:.2f}',\n",
    "                         xy=(bar.get_x() + bar.get_width() / 2, height),\n",
    "                         xytext=(0, 2),  # 3 points vertical offset\n",
    "                         textcoords=\"offset points\",\n",
    "                         ha='center', va='bottom', fontsize=16)\n",
    "    \n",
    "    add_labels(bars1)\n",
    "    add_labels(bars2)\n",
    "    add_labels(bars3)\n",
    "    plt.tight_layout()\n",
    "    plt.savefig(figure_name)\n",
    "    plt.close()"
   ]
  },
  {
   "cell_type": "code",
   "execution_count": 8,
   "metadata": {},
   "outputs": [],
   "source": [
    "def visualize_time(data, pruner, device):\n",
    "    title = pruner + ', on ' + device\n",
    "    figure_name = '/remote-home/zyzeng/collie/imgs/'+ pruner + '_' + device + '_time.png'\n",
    "    memory_sizes = sorted(list(set([d['memory_size'] for d in data])))\n",
    "    incremental_time = [data['time'] for data in data if data['chunk_size'] if data['memory_type'] == 'Incremental Memory']\n",
    "    fix_time = [data['time'] for data in data if data['chunk_size'] if data['memory_type'] == 'Fixed-Size Memory']\n",
    "    decremental_time = [data['time'] for data in data if data['chunk_size'] if data['memory_type'] == 'Decremental Chunk']\n",
    "    print(memory_sizes, incremental_time, fix_time, decremental_time)\n",
    "    plot_bar(fix_time, incremental_time, decremental_time, memory_sizes=memory_sizes, title=title, ylabel='TTFT', figure_name=figure_name)"
   ]
  },
  {
   "cell_type": "code",
   "execution_count": 9,
   "metadata": {},
   "outputs": [
    {
     "name": "stdout",
     "output_type": "stream",
     "text": [
      "[2048, 4096, 8192] [3.325899, 3.615216, 4.23961] [3.451121, 3.917172, 5.374468] [3.302616, 3.643475, 4.241628]\n",
      "[256, 512, 1024] [7.425909, 8.253696, 10.39307] [8.153037, 10.052331, 15.074495] [7.487219, 8.220712, 10.049732]\n"
     ]
    }
   ],
   "source": [
    "visualize_time(a800_flash_attn_time, pruner=\"StreamingLLM\", device=\"A800\")\n",
    "visualize_time(a800_naive_attn_time, pruner=\"SnapKV\", device=\"A800\")"
   ]
  },
  {
   "cell_type": "code",
   "execution_count": 10,
   "metadata": {},
   "outputs": [
    {
     "name": "stdout",
     "output_type": "stream",
     "text": [
      "[512, 1024, 2048] [2.186744, 2.27456, 2.504735] [2.234775, 2.354478, 2.646271] [2.171895, 2.277657, 2.447872]\n"
     ]
    },
    {
     "name": "stdout",
     "output_type": "stream",
     "text": [
      "[128, 256, 512] [3.257019, 3.329416, 3.675424] [3.316364, 3.607026, 4.348185] [3.274286, 3.43614, 3.64905]\n"
     ]
    }
   ],
   "source": [
    "visualize_time(x090_flash_attn_time, pruner=\"StreamingLLM\", device=\"RTX-3090\")\n",
    "visualize_time(x090_naive_attn_time, pruner=\"SnapKV\", device=\"RTX-3090\")"
   ]
  },
  {
   "cell_type": "code",
   "execution_count": 11,
   "metadata": {},
   "outputs": [],
   "source": [
    "def visualize_memory(data, pruner, device):\n",
    "    title = pruner + ', on ' + device\n",
    "    figure_name = '/remote-home/zyzeng/collie/imgs/'+ pruner + '_' + device + '_memory.png'\n",
    "    memory_sizes = sorted(list(set([d['memory_size'] for d in data])))\n",
    "    memory_sizes = sorted(list(set([d['memory_size'] for d in data])))\n",
    "    incremental_gpumem = [data['gpumem'] for data in data if data['chunk_size'] if data['memory_type'] == 'Incremental Memory']\n",
    "    fix_gpumem = [data['gpumem'] for data in data if data['chunk_size'] if data['memory_type'] == 'Fixed-Size Memory']\n",
    "    decremental_gpumem = [data['gpumem'] for data in data if data['chunk_size'] if data['memory_type'] == 'Decremental Chunk']\n",
    "    print(memory_sizes, incremental_gpumem, fix_gpumem, decremental_gpumem)\n",
    "    plot_bar(fix_gpumem, incremental_gpumem, decremental_gpumem, memory_sizes=memory_sizes, title=title, ylabel='GPU Memory Usage', figure_name=figure_name)"
   ]
  },
  {
   "cell_type": "code",
   "execution_count": 12,
   "metadata": {},
   "outputs": [
    {
     "name": "stdout",
     "output_type": "stream",
     "text": [
      "[2048, 4096, 8192] [29.9, 33, 39.4] [31.3, 35.9, 45] [29.4, 32.2, 37.7]\n",
      "[256, 512, 1024] [24.6, 28.1, 36.7] [24.7, 28.4, 37.7] [23.2, 24.9, 28.9]\n"
     ]
    }
   ],
   "source": [
    "visualize_memory(a800_flash_attn_gpumem, pruner=\"StreamingLLM\", device=\"A800\")\n",
    "visualize_memory(a800_naive_attn_memory, pruner=\"SnapKV\", device=\"A800\")"
   ]
  },
  {
   "cell_type": "code",
   "execution_count": 13,
   "metadata": {},
   "outputs": [
    {
     "name": "stdout",
     "output_type": "stream",
     "text": [
      "[512, 1024, 2048] [17.6, 18.3, 19.9] [17.9, 19.1, 21.3] [17.5, 18.1, 19.5]\n"
     ]
    },
    {
     "name": "stdout",
     "output_type": "stream",
     "text": [
      "[128, 256, 512] [16.7, 17.6, 19.9] [16.8, 17.8, 20.4] [16.3, 16.9, 18]\n"
     ]
    }
   ],
   "source": [
    "visualize_memory(x090_flash_attn_gpumem, pruner=\"StreamingLLM\", device=\"RTX-3090\")\n",
    "visualize_memory(x090_naive_attn_memory, pruner=\"SnapKV\", device=\"RTX-3090\")"
   ]
  },
  {
   "cell_type": "code",
   "execution_count": 14,
   "metadata": {},
   "outputs": [],
   "source": [
    "plt.rcParams.update({'font.size': 40})\n",
    "def visualize_ax(ax, fix, incremental, decremental, memory_sizes, title, ylabel):\n",
    "    min_value = min(fix + incremental + decremental)\n",
    "    max_value = max(fix + incremental + decremental)\n",
    "    x = np.arange(len(memory_sizes))\n",
    "    width = 0.3\n",
    "    # plt.xlabel('Memory size')\n",
    "    bar1 = ax.bar(x - width, fix, width, label='Fixed-size Memory', color=macaron_colors[0])\n",
    "    bar2 = ax.bar(x, incremental, width, label='Incremental Memory', color=macaron_colors[1])\n",
    "    bar3 = ax.bar(x + width, decremental, width, label='Decremental Chunk', color=macaron_colors[2])\n",
    "    def add_labels(bars):\n",
    "        for bar in bars:\n",
    "            height = bar.get_height()\n",
    "            ax.annotate(f'{height:.2f}',\n",
    "                         xy=(bar.get_x() + bar.get_width() / 2, height),\n",
    "                         xytext=(0, 2),  # 3 points vertical offset\n",
    "                         textcoords=\"offset points\",\n",
    "                         ha='center', va='bottom', fontsize=22)\n",
    "    add_labels(bar1)\n",
    "    add_labels(bar2)\n",
    "    add_labels(bar3)\n",
    "    ax.set_xlabel('Memory size')\n",
    "    # plt.ylabel(ylabel)\n",
    "    if y_label:\n",
    "        ax.set_ylabel(ylabel)\n",
    "    # plt.xticks(x, memory_sizes)\n",
    "    ax.set_xticks(x, memory_sizes)\n",
    "    # plt.ylim(min_value - 0.1, max_value + 0.1)\n",
    "    ax.set_ylim(min_value - 0.1, max_value + 0.1)\n",
    "    # plt.title(title, pad=30)\n",
    "    ax.set_title(title, pad=40)\n",
    "    # plt.gca().spines['top'].set_visible(False)\n",
    "    ax.spines['top'].set_visible(False)\n",
    "    ax.spines['right'].set_visible(False)\n",
    "data_dict_list = [a800_naive_attn_time, x090_naive_attn_time, a800_flash_attn_time, x090_flash_attn_time, a800_naive_attn_memory, x090_naive_attn_memory, a800_flash_attn_gpumem, x090_flash_attn_gpumem]\n",
    "for row in range(2):\n",
    "    fig, ax = plt.subplots(1, 4, figsize=(48, 9))\n",
    "    for col in range(4):\n",
    "        data_dict = data_dict_list[row * 4 + col]\n",
    "        if row == 0:\n",
    "            target = \"time\"\n",
    "            y_label = \"TTFT\"\n",
    "        else:\n",
    "            target = \"gpumem\"\n",
    "            y_label = 'GPU Memory Usage'\n",
    "        if col % 2:\n",
    "            device = 'RTX-3090'\n",
    "        else:\n",
    "            device = 'A800'\n",
    "        if col < 2:\n",
    "            pruner = 'SnapKV'\n",
    "        else:\n",
    "            pruner = 'StreamingLLM'\n",
    "        title = f'{pruner} ({device})'\n",
    "        memory_sizes = sorted(list(set([d['memory_size'] for d in data_dict])))\n",
    "        incremental = [data[target] for data in data_dict if data['chunk_size'] if data['memory_type'] == 'Incremental Memory']\n",
    "        fix = [data[target] for data in data_dict if data['chunk_size'] if data['memory_type'] == 'Fixed-Size Memory']\n",
    "        decremental = [data[target] for data in data_dict if data['chunk_size'] if data['memory_type'] == 'Decremental Chunk']\n",
    "        # row = 0\n",
    "        if col:\n",
    "            y_label = None\n",
    "        visualize_ax(ax[col], fix, incremental, decremental, memory_sizes=memory_sizes, title=title, ylabel=y_label)\n",
    "    fig.legend(['FM', 'IM', 'IMDC'], \n",
    "            loc='upper center',   # 将图例置于上方中心\n",
    "            ncol=3,               # 设定图例中项目的列数\n",
    "            bbox_to_anchor=(0.5, 1.1))  # 使用bbox_to_anchor调整图例的具体位置\n",
    "    plt.tight_layout()\n",
    "    plt.subplots_adjust(left=None, bottom=None, right=None, top=None, wspace=0.1, hspace=0.1)\n",
    "    # plt.show()\n",
    "    plt.savefig(f'/remote-home/zyzeng/collie/imgs/{target}.pdf', format='pdf', bbox_inches='tight')\n",
    "    plt.close()"
   ]
  },
  {
   "cell_type": "code",
   "execution_count": null,
   "metadata": {},
   "outputs": [],
   "source": []
  }
 ],
 "metadata": {
  "kernelspec": {
   "display_name": "collie",
   "language": "python",
   "name": "python3"
  },
  "language_info": {
   "codemirror_mode": {
    "name": "ipython",
    "version": 3
   },
   "file_extension": ".py",
   "mimetype": "text/x-python",
   "name": "python",
   "nbconvert_exporter": "python",
   "pygments_lexer": "ipython3",
   "version": "3.10.13"
  }
 },
 "nbformat": 4,
 "nbformat_minor": 2
}
